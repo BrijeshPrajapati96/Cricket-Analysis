{
 "cells": [
  {
   "cell_type": "code",
   "execution_count": 45,
   "id": "0f78f893-6f20-4eb9-804f-adb50af998d0",
   "metadata": {},
   "outputs": [],
   "source": [
    "import pandas as pd\n",
    "import numpy as np\n",
    "import seaborn as sns\n",
    "import matplotlib.pyplot as plt\n",
    "\n",
    "RS= pd.read_csv('Downloads\\Rohit-Sharma-All-International-Cricket-Centuries.csv', parse_dates=True)\n"
   ]
  },
  {
   "cell_type": "code",
   "execution_count": 33,
   "id": "934759e9-646f-4697-b60f-7f000b3648bd",
   "metadata": {},
   "outputs": [
    {
     "data": {
      "text/html": [
       "<div>\n",
       "<style scoped>\n",
       "    .dataframe tbody tr th:only-of-type {\n",
       "        vertical-align: middle;\n",
       "    }\n",
       "\n",
       "    .dataframe tbody tr th {\n",
       "        vertical-align: top;\n",
       "    }\n",
       "\n",
       "    .dataframe thead th {\n",
       "        text-align: right;\n",
       "    }\n",
       "</style>\n",
       "<table border=\"1\" class=\"dataframe\">\n",
       "  <thead>\n",
       "    <tr style=\"text-align: right;\">\n",
       "      <th></th>\n",
       "      <th>No.</th>\n",
       "      <th>Score</th>\n",
       "      <th>Against</th>\n",
       "      <th>Position</th>\n",
       "      <th>Innings</th>\n",
       "      <th>Venue</th>\n",
       "      <th>Ground</th>\n",
       "      <th>Date</th>\n",
       "      <th>Result</th>\n",
       "    </tr>\n",
       "  </thead>\n",
       "  <tbody>\n",
       "    <tr>\n",
       "      <th>0</th>\n",
       "      <td>1</td>\n",
       "      <td>114</td>\n",
       "      <td>Zimbabwe</td>\n",
       "      <td>4</td>\n",
       "      <td>1</td>\n",
       "      <td>Queens Sports Club, Bulawayo</td>\n",
       "      <td>Away</td>\n",
       "      <td>28-May-10</td>\n",
       "      <td>Lost</td>\n",
       "    </tr>\n",
       "    <tr>\n",
       "      <th>1</th>\n",
       "      <td>2</td>\n",
       "      <td>101*</td>\n",
       "      <td>Sri Lanka</td>\n",
       "      <td>4</td>\n",
       "      <td>2</td>\n",
       "      <td>Queens Sports Club, Bulawayo</td>\n",
       "      <td>Neutral</td>\n",
       "      <td>30-May-10</td>\n",
       "      <td>Won</td>\n",
       "    </tr>\n",
       "    <tr>\n",
       "      <th>2</th>\n",
       "      <td>3</td>\n",
       "      <td>141*</td>\n",
       "      <td>Australia</td>\n",
       "      <td>1</td>\n",
       "      <td>2</td>\n",
       "      <td>Sawai Mansingh Stadium, Jaipur</td>\n",
       "      <td>Home</td>\n",
       "      <td>16-Oct-13</td>\n",
       "      <td>Won</td>\n",
       "    </tr>\n",
       "    <tr>\n",
       "      <th>3</th>\n",
       "      <td>4</td>\n",
       "      <td>209</td>\n",
       "      <td>Australia</td>\n",
       "      <td>1</td>\n",
       "      <td>1</td>\n",
       "      <td>M. Chinnaswamy Stadium, Bangalore</td>\n",
       "      <td>Home</td>\n",
       "      <td>02-Nov-13</td>\n",
       "      <td>Won</td>\n",
       "    </tr>\n",
       "    <tr>\n",
       "      <th>4</th>\n",
       "      <td>5</td>\n",
       "      <td>177</td>\n",
       "      <td>West Indies</td>\n",
       "      <td>6</td>\n",
       "      <td>2</td>\n",
       "      <td>Eden Gardens, Kolkata</td>\n",
       "      <td>Home</td>\n",
       "      <td>06-Nov-13</td>\n",
       "      <td>Won</td>\n",
       "    </tr>\n",
       "  </tbody>\n",
       "</table>\n",
       "</div>"
      ],
      "text/plain": [
       "   No.  Score       Against  Position  Innings  \\\n",
       "0    1    114      Zimbabwe         4        1   \n",
       "1    2  101*      Sri Lanka         4        2   \n",
       "2    3  141*      Australia         1        2   \n",
       "3    4    209     Australia         1        1   \n",
       "4    5    177   West Indies         6        2   \n",
       "\n",
       "                               Venue   Ground       Date Result  \n",
       "0       Queens Sports Club, Bulawayo     Away  28-May-10   Lost  \n",
       "1       Queens Sports Club, Bulawayo  Neutral  30-May-10    Won  \n",
       "2     Sawai Mansingh Stadium, Jaipur     Home  16-Oct-13    Won  \n",
       "3  M. Chinnaswamy Stadium, Bangalore     Home  02-Nov-13    Won  \n",
       "4              Eden Gardens, Kolkata     Home  06-Nov-13    Won  "
      ]
     },
     "execution_count": 33,
     "metadata": {},
     "output_type": "execute_result"
    }
   ],
   "source": [
    "RS.head()"
   ]
  },
  {
   "cell_type": "code",
   "execution_count": 35,
   "id": "e7e2b99b-a7ed-47a4-9786-c0f6f5f09568",
   "metadata": {},
   "outputs": [
    {
     "data": {
      "text/plain": [
       "(43, 9)"
      ]
     },
     "execution_count": 35,
     "metadata": {},
     "output_type": "execute_result"
    }
   ],
   "source": [
    "RS.shape"
   ]
  },
  {
   "cell_type": "code",
   "execution_count": 37,
   "id": "1c09bcc0-3fad-4a97-bd7a-8811a3f50caf",
   "metadata": {},
   "outputs": [
    {
     "name": "stdout",
     "output_type": "stream",
     "text": [
      "<class 'pandas.core.frame.DataFrame'>\n",
      "RangeIndex: 43 entries, 0 to 42\n",
      "Data columns (total 9 columns):\n",
      " #   Column    Non-Null Count  Dtype \n",
      "---  ------    --------------  ----- \n",
      " 0   No.       43 non-null     int64 \n",
      " 1   Score     43 non-null     object\n",
      " 2   Against   43 non-null     object\n",
      " 3   Position  43 non-null     int64 \n",
      " 4   Innings   43 non-null     int64 \n",
      " 5   Venue     43 non-null     object\n",
      " 6   Ground    43 non-null     object\n",
      " 7   Date      43 non-null     object\n",
      " 8   Result    43 non-null     object\n",
      "dtypes: int64(3), object(6)\n",
      "memory usage: 3.2+ KB\n"
     ]
    }
   ],
   "source": [
    "RS.info()"
   ]
  },
  {
   "cell_type": "code",
   "execution_count": 39,
   "id": "18580559-0a2e-4bca-af8c-47c93d349bfa",
   "metadata": {},
   "outputs": [
    {
     "data": {
      "text/html": [
       "<div>\n",
       "<style scoped>\n",
       "    .dataframe tbody tr th:only-of-type {\n",
       "        vertical-align: middle;\n",
       "    }\n",
       "\n",
       "    .dataframe tbody tr th {\n",
       "        vertical-align: top;\n",
       "    }\n",
       "\n",
       "    .dataframe thead th {\n",
       "        text-align: right;\n",
       "    }\n",
       "</style>\n",
       "<table border=\"1\" class=\"dataframe\">\n",
       "  <thead>\n",
       "    <tr style=\"text-align: right;\">\n",
       "      <th></th>\n",
       "      <th>No.</th>\n",
       "      <th>Score</th>\n",
       "      <th>Against</th>\n",
       "      <th>Position</th>\n",
       "      <th>Innings</th>\n",
       "      <th>Venue</th>\n",
       "      <th>Ground</th>\n",
       "      <th>Date</th>\n",
       "      <th>Result</th>\n",
       "    </tr>\n",
       "  </thead>\n",
       "  <tbody>\n",
       "    <tr>\n",
       "      <th>38</th>\n",
       "      <td>39</td>\n",
       "      <td>119</td>\n",
       "      <td>Australia</td>\n",
       "      <td>1</td>\n",
       "      <td>2</td>\n",
       "      <td>M. Chinnaswamy Stadium, Bangalore</td>\n",
       "      <td>Home</td>\n",
       "      <td>19-Jan-20</td>\n",
       "      <td>Won</td>\n",
       "    </tr>\n",
       "    <tr>\n",
       "      <th>39</th>\n",
       "      <td>40</td>\n",
       "      <td>161</td>\n",
       "      <td>England</td>\n",
       "      <td>1</td>\n",
       "      <td>1</td>\n",
       "      <td>M. A. Chidambaram Stadium, Chennai</td>\n",
       "      <td>Home</td>\n",
       "      <td>13-Feb-21</td>\n",
       "      <td>Won</td>\n",
       "    </tr>\n",
       "    <tr>\n",
       "      <th>40</th>\n",
       "      <td>41</td>\n",
       "      <td>127</td>\n",
       "      <td>England</td>\n",
       "      <td>1</td>\n",
       "      <td>3</td>\n",
       "      <td>The Oval, London</td>\n",
       "      <td>Away</td>\n",
       "      <td>02-Sep-21</td>\n",
       "      <td>Won</td>\n",
       "    </tr>\n",
       "    <tr>\n",
       "      <th>41</th>\n",
       "      <td>42</td>\n",
       "      <td>101</td>\n",
       "      <td>New Zealand</td>\n",
       "      <td>1</td>\n",
       "      <td>1</td>\n",
       "      <td>Holkar Cricket Stadium, Indore</td>\n",
       "      <td>Home</td>\n",
       "      <td>24-Jan-23</td>\n",
       "      <td>Won</td>\n",
       "    </tr>\n",
       "    <tr>\n",
       "      <th>42</th>\n",
       "      <td>43</td>\n",
       "      <td>120</td>\n",
       "      <td>Australia</td>\n",
       "      <td>1</td>\n",
       "      <td>2</td>\n",
       "      <td>Vidarbha Cricket Association Stadium, Nagpur</td>\n",
       "      <td>Home</td>\n",
       "      <td>09-Feb-23</td>\n",
       "      <td>Won</td>\n",
       "    </tr>\n",
       "  </tbody>\n",
       "</table>\n",
       "</div>"
      ],
      "text/plain": [
       "    No. Score       Against  Position  Innings  \\\n",
       "38   39   119     Australia         1        2   \n",
       "39   40   161       England         1        1   \n",
       "40   41   127       England         1        3   \n",
       "41   42   101   New Zealand         1        1   \n",
       "42   43   120     Australia         1        2   \n",
       "\n",
       "                                           Venue Ground       Date Result  \n",
       "38             M. Chinnaswamy Stadium, Bangalore   Home  19-Jan-20    Won  \n",
       "39            M. A. Chidambaram Stadium, Chennai   Home  13-Feb-21    Won  \n",
       "40                              The Oval, London   Away  02-Sep-21    Won  \n",
       "41                Holkar Cricket Stadium, Indore   Home  24-Jan-23    Won  \n",
       "42  Vidarbha Cricket Association Stadium, Nagpur   Home  09-Feb-23    Won  "
      ]
     },
     "execution_count": 39,
     "metadata": {},
     "output_type": "execute_result"
    }
   ],
   "source": [
    "RS.tail()"
   ]
  },
  {
   "cell_type": "code",
   "execution_count": 41,
   "id": "25f54e21-5dcd-4891-865a-2034279d0b33",
   "metadata": {},
   "outputs": [
    {
     "data": {
      "text/html": [
       "<div>\n",
       "<style scoped>\n",
       "    .dataframe tbody tr th:only-of-type {\n",
       "        vertical-align: middle;\n",
       "    }\n",
       "\n",
       "    .dataframe tbody tr th {\n",
       "        vertical-align: top;\n",
       "    }\n",
       "\n",
       "    .dataframe thead th {\n",
       "        text-align: right;\n",
       "    }\n",
       "</style>\n",
       "<table border=\"1\" class=\"dataframe\">\n",
       "  <thead>\n",
       "    <tr style=\"text-align: right;\">\n",
       "      <th></th>\n",
       "      <th>No.</th>\n",
       "      <th>Position</th>\n",
       "      <th>Innings</th>\n",
       "    </tr>\n",
       "  </thead>\n",
       "  <tbody>\n",
       "    <tr>\n",
       "      <th>count</th>\n",
       "      <td>43.000000</td>\n",
       "      <td>43.000000</td>\n",
       "      <td>43.000000</td>\n",
       "    </tr>\n",
       "    <tr>\n",
       "      <th>mean</th>\n",
       "      <td>22.000000</td>\n",
       "      <td>1.697674</td>\n",
       "      <td>1.534884</td>\n",
       "    </tr>\n",
       "    <tr>\n",
       "      <th>std</th>\n",
       "      <td>12.556539</td>\n",
       "      <td>1.389328</td>\n",
       "      <td>0.591561</td>\n",
       "    </tr>\n",
       "    <tr>\n",
       "      <th>min</th>\n",
       "      <td>1.000000</td>\n",
       "      <td>1.000000</td>\n",
       "      <td>1.000000</td>\n",
       "    </tr>\n",
       "    <tr>\n",
       "      <th>25%</th>\n",
       "      <td>11.500000</td>\n",
       "      <td>1.000000</td>\n",
       "      <td>1.000000</td>\n",
       "    </tr>\n",
       "    <tr>\n",
       "      <th>50%</th>\n",
       "      <td>22.000000</td>\n",
       "      <td>1.000000</td>\n",
       "      <td>1.000000</td>\n",
       "    </tr>\n",
       "    <tr>\n",
       "      <th>75%</th>\n",
       "      <td>32.500000</td>\n",
       "      <td>2.000000</td>\n",
       "      <td>2.000000</td>\n",
       "    </tr>\n",
       "    <tr>\n",
       "      <th>max</th>\n",
       "      <td>43.000000</td>\n",
       "      <td>6.000000</td>\n",
       "      <td>3.000000</td>\n",
       "    </tr>\n",
       "  </tbody>\n",
       "</table>\n",
       "</div>"
      ],
      "text/plain": [
       "             No.   Position    Innings\n",
       "count  43.000000  43.000000  43.000000\n",
       "mean   22.000000   1.697674   1.534884\n",
       "std    12.556539   1.389328   0.591561\n",
       "min     1.000000   1.000000   1.000000\n",
       "25%    11.500000   1.000000   1.000000\n",
       "50%    22.000000   1.000000   1.000000\n",
       "75%    32.500000   2.000000   2.000000\n",
       "max    43.000000   6.000000   3.000000"
      ]
     },
     "execution_count": 41,
     "metadata": {},
     "output_type": "execute_result"
    }
   ],
   "source": [
    "RS.describe()"
   ]
  },
  {
   "cell_type": "code",
   "execution_count": 49,
   "id": "537edaf6-5efb-465b-946d-c6060401aeac",
   "metadata": {},
   "outputs": [],
   "source": [
    "RS['Date']= pd.to_datetime(RS['Date'])"
   ]
  },
  {
   "cell_type": "code",
   "execution_count": 53,
   "id": "71fabbb2-7c72-432d-af21-a56842a77848",
   "metadata": {},
   "outputs": [
    {
     "data": {
      "text/html": [
       "<div>\n",
       "<style scoped>\n",
       "    .dataframe tbody tr th:only-of-type {\n",
       "        vertical-align: middle;\n",
       "    }\n",
       "\n",
       "    .dataframe tbody tr th {\n",
       "        vertical-align: top;\n",
       "    }\n",
       "\n",
       "    .dataframe thead th {\n",
       "        text-align: right;\n",
       "    }\n",
       "</style>\n",
       "<table border=\"1\" class=\"dataframe\">\n",
       "  <thead>\n",
       "    <tr style=\"text-align: right;\">\n",
       "      <th></th>\n",
       "      <th>No.</th>\n",
       "      <th>Score</th>\n",
       "      <th>Against</th>\n",
       "      <th>Position</th>\n",
       "      <th>Innings</th>\n",
       "      <th>Venue</th>\n",
       "      <th>Ground</th>\n",
       "      <th>Date</th>\n",
       "      <th>Result</th>\n",
       "    </tr>\n",
       "  </thead>\n",
       "  <tbody>\n",
       "    <tr>\n",
       "      <th>0</th>\n",
       "      <td>1</td>\n",
       "      <td>114</td>\n",
       "      <td>Zimbabwe</td>\n",
       "      <td>4</td>\n",
       "      <td>1</td>\n",
       "      <td>Queens Sports Club, Bulawayo</td>\n",
       "      <td>Away</td>\n",
       "      <td>28-May-10</td>\n",
       "      <td>Lost</td>\n",
       "    </tr>\n",
       "    <tr>\n",
       "      <th>1</th>\n",
       "      <td>2</td>\n",
       "      <td>101*</td>\n",
       "      <td>Sri Lanka</td>\n",
       "      <td>4</td>\n",
       "      <td>2</td>\n",
       "      <td>Queens Sports Club, Bulawayo</td>\n",
       "      <td>Neutral</td>\n",
       "      <td>30-May-10</td>\n",
       "      <td>Won</td>\n",
       "    </tr>\n",
       "    <tr>\n",
       "      <th>2</th>\n",
       "      <td>3</td>\n",
       "      <td>141*</td>\n",
       "      <td>Australia</td>\n",
       "      <td>1</td>\n",
       "      <td>2</td>\n",
       "      <td>Sawai Mansingh Stadium, Jaipur</td>\n",
       "      <td>Home</td>\n",
       "      <td>16-Oct-13</td>\n",
       "      <td>Won</td>\n",
       "    </tr>\n",
       "    <tr>\n",
       "      <th>3</th>\n",
       "      <td>4</td>\n",
       "      <td>209</td>\n",
       "      <td>Australia</td>\n",
       "      <td>1</td>\n",
       "      <td>1</td>\n",
       "      <td>M. Chinnaswamy Stadium, Bangalore</td>\n",
       "      <td>Home</td>\n",
       "      <td>02-Nov-13</td>\n",
       "      <td>Won</td>\n",
       "    </tr>\n",
       "    <tr>\n",
       "      <th>4</th>\n",
       "      <td>5</td>\n",
       "      <td>177</td>\n",
       "      <td>West Indies</td>\n",
       "      <td>6</td>\n",
       "      <td>2</td>\n",
       "      <td>Eden Gardens, Kolkata</td>\n",
       "      <td>Home</td>\n",
       "      <td>06-Nov-13</td>\n",
       "      <td>Won</td>\n",
       "    </tr>\n",
       "  </tbody>\n",
       "</table>\n",
       "</div>"
      ],
      "text/plain": [
       "   No.  Score       Against  Position  Innings  \\\n",
       "0    1    114      Zimbabwe         4        1   \n",
       "1    2  101*      Sri Lanka         4        2   \n",
       "2    3  141*      Australia         1        2   \n",
       "3    4    209     Australia         1        1   \n",
       "4    5    177   West Indies         6        2   \n",
       "\n",
       "                               Venue   Ground       Date Result  \n",
       "0       Queens Sports Club, Bulawayo     Away  28-May-10   Lost  \n",
       "1       Queens Sports Club, Bulawayo  Neutral  30-May-10    Won  \n",
       "2     Sawai Mansingh Stadium, Jaipur     Home  16-Oct-13    Won  \n",
       "3  M. Chinnaswamy Stadium, Bangalore     Home  02-Nov-13    Won  \n",
       "4              Eden Gardens, Kolkata     Home  06-Nov-13    Won  "
      ]
     },
     "execution_count": 53,
     "metadata": {},
     "output_type": "execute_result"
    }
   ],
   "source": [
    "RS.head()"
   ]
  },
  {
   "cell_type": "code",
   "execution_count": 73,
   "id": "0afcfe28-91cb-454a-a611-a3a53f6580d7",
   "metadata": {},
   "outputs": [
    {
     "data": {
      "text/plain": [
       "No.                  int64\n",
       "Score               object\n",
       "Against             object\n",
       "Position             int64\n",
       "Innings              int64\n",
       "Venue               object\n",
       "Ground              object\n",
       "Date        datetime64[ns]\n",
       "Result              object\n",
       "dtype: object"
      ]
     },
     "execution_count": 73,
     "metadata": {},
     "output_type": "execute_result"
    }
   ],
   "source": [
    "RS.dtypes"
   ]
  },
  {
   "cell_type": "code",
   "execution_count": 75,
   "id": "454da8d0-bc9b-4de2-9c90-76af2c93a31c",
   "metadata": {},
   "outputs": [],
   "source": [
    "RS= RS.rename(columns={'Score': 'Runs'})\n"
   ]
  },
  {
   "cell_type": "code",
   "execution_count": 77,
   "id": "87968fce-209a-4b49-8a33-833f26eafb78",
   "metadata": {},
   "outputs": [
    {
     "data": {
      "text/html": [
       "<div>\n",
       "<style scoped>\n",
       "    .dataframe tbody tr th:only-of-type {\n",
       "        vertical-align: middle;\n",
       "    }\n",
       "\n",
       "    .dataframe tbody tr th {\n",
       "        vertical-align: top;\n",
       "    }\n",
       "\n",
       "    .dataframe thead th {\n",
       "        text-align: right;\n",
       "    }\n",
       "</style>\n",
       "<table border=\"1\" class=\"dataframe\">\n",
       "  <thead>\n",
       "    <tr style=\"text-align: right;\">\n",
       "      <th></th>\n",
       "      <th>No.</th>\n",
       "      <th>Runs</th>\n",
       "      <th>Against</th>\n",
       "      <th>Position</th>\n",
       "      <th>Innings</th>\n",
       "      <th>Venue</th>\n",
       "      <th>Ground</th>\n",
       "      <th>Date</th>\n",
       "      <th>Result</th>\n",
       "    </tr>\n",
       "  </thead>\n",
       "  <tbody>\n",
       "    <tr>\n",
       "      <th>0</th>\n",
       "      <td>1</td>\n",
       "      <td>114</td>\n",
       "      <td>Zimbabwe</td>\n",
       "      <td>4</td>\n",
       "      <td>1</td>\n",
       "      <td>Queens Sports Club, Bulawayo</td>\n",
       "      <td>Away</td>\n",
       "      <td>2010-05-28</td>\n",
       "      <td>Lost</td>\n",
       "    </tr>\n",
       "    <tr>\n",
       "      <th>1</th>\n",
       "      <td>2</td>\n",
       "      <td>101*</td>\n",
       "      <td>Sri Lanka</td>\n",
       "      <td>4</td>\n",
       "      <td>2</td>\n",
       "      <td>Queens Sports Club, Bulawayo</td>\n",
       "      <td>Neutral</td>\n",
       "      <td>2010-05-30</td>\n",
       "      <td>Won</td>\n",
       "    </tr>\n",
       "    <tr>\n",
       "      <th>2</th>\n",
       "      <td>3</td>\n",
       "      <td>141*</td>\n",
       "      <td>Australia</td>\n",
       "      <td>1</td>\n",
       "      <td>2</td>\n",
       "      <td>Sawai Mansingh Stadium, Jaipur</td>\n",
       "      <td>Home</td>\n",
       "      <td>2013-10-16</td>\n",
       "      <td>Won</td>\n",
       "    </tr>\n",
       "    <tr>\n",
       "      <th>3</th>\n",
       "      <td>4</td>\n",
       "      <td>209</td>\n",
       "      <td>Australia</td>\n",
       "      <td>1</td>\n",
       "      <td>1</td>\n",
       "      <td>M. Chinnaswamy Stadium, Bangalore</td>\n",
       "      <td>Home</td>\n",
       "      <td>2013-11-02</td>\n",
       "      <td>Won</td>\n",
       "    </tr>\n",
       "    <tr>\n",
       "      <th>4</th>\n",
       "      <td>5</td>\n",
       "      <td>177</td>\n",
       "      <td>West Indies</td>\n",
       "      <td>6</td>\n",
       "      <td>2</td>\n",
       "      <td>Eden Gardens, Kolkata</td>\n",
       "      <td>Home</td>\n",
       "      <td>2013-11-06</td>\n",
       "      <td>Won</td>\n",
       "    </tr>\n",
       "  </tbody>\n",
       "</table>\n",
       "</div>"
      ],
      "text/plain": [
       "   No.   Runs       Against  Position  Innings  \\\n",
       "0    1    114      Zimbabwe         4        1   \n",
       "1    2  101*      Sri Lanka         4        2   \n",
       "2    3  141*      Australia         1        2   \n",
       "3    4    209     Australia         1        1   \n",
       "4    5    177   West Indies         6        2   \n",
       "\n",
       "                               Venue   Ground       Date Result  \n",
       "0       Queens Sports Club, Bulawayo     Away 2010-05-28   Lost  \n",
       "1       Queens Sports Club, Bulawayo  Neutral 2010-05-30    Won  \n",
       "2     Sawai Mansingh Stadium, Jaipur     Home 2013-10-16    Won  \n",
       "3  M. Chinnaswamy Stadium, Bangalore     Home 2013-11-02    Won  \n",
       "4              Eden Gardens, Kolkata     Home 2013-11-06    Won  "
      ]
     },
     "execution_count": 77,
     "metadata": {},
     "output_type": "execute_result"
    }
   ],
   "source": [
    "RS.head()"
   ]
  },
  {
   "cell_type": "code",
   "execution_count": 129,
   "id": "ba68f35b-d5ec-45b9-8608-af2d97a4b2a7",
   "metadata": {},
   "outputs": [],
   "source": [
    "RS['Year']= RS['Date'].dt.year\n",
    "RS['Runs']= RS['Runs'].astype(str)\n"
   ]
  },
  {
   "cell_type": "code",
   "execution_count": null,
   "id": "c3d10929-3788-4462-aa95-12b536a3ff2f",
   "metadata": {},
   "outputs": [],
   "source": [
    "RS['Out/Not-Out']= RS['Runs'].str.contains(r'[^\\w\\s]', regex= True)\n",
    "RS.loc[RS['Out/Not-Out']== True, 'Out/Not-Out' ] = 'Not Out'\n",
    "RS.loc[RS['Out/Not-Out']== False, 'Out/Not-Out' ] = 'Out'\n",
    "RS"
   ]
  },
  {
   "cell_type": "code",
   "execution_count": 200,
   "id": "823dc416-89b5-4fb8-9027-c216d25b827c",
   "metadata": {},
   "outputs": [
    {
     "data": {
      "text/html": [
       "<div>\n",
       "<style scoped>\n",
       "    .dataframe tbody tr th:only-of-type {\n",
       "        vertical-align: middle;\n",
       "    }\n",
       "\n",
       "    .dataframe tbody tr th {\n",
       "        vertical-align: top;\n",
       "    }\n",
       "\n",
       "    .dataframe thead th {\n",
       "        text-align: right;\n",
       "    }\n",
       "</style>\n",
       "<table border=\"1\" class=\"dataframe\">\n",
       "  <thead>\n",
       "    <tr style=\"text-align: right;\">\n",
       "      <th></th>\n",
       "      <th>No.</th>\n",
       "      <th>Runs</th>\n",
       "      <th>Against</th>\n",
       "      <th>Position</th>\n",
       "      <th>Innings</th>\n",
       "      <th>Venue</th>\n",
       "      <th>Ground</th>\n",
       "      <th>Date</th>\n",
       "      <th>Result</th>\n",
       "      <th>Year</th>\n",
       "      <th>Out/NOt-Out</th>\n",
       "      <th>Out/Not-Out</th>\n",
       "    </tr>\n",
       "  </thead>\n",
       "  <tbody>\n",
       "    <tr>\n",
       "      <th>0</th>\n",
       "      <td>1</td>\n",
       "      <td>114</td>\n",
       "      <td>Zimbabwe</td>\n",
       "      <td>4</td>\n",
       "      <td>1</td>\n",
       "      <td>Queens Sports Club, Bulawayo</td>\n",
       "      <td>Away</td>\n",
       "      <td>2010-05-28</td>\n",
       "      <td>Lost</td>\n",
       "      <td>2010</td>\n",
       "      <td>False</td>\n",
       "      <td>Out</td>\n",
       "    </tr>\n",
       "    <tr>\n",
       "      <th>1</th>\n",
       "      <td>2</td>\n",
       "      <td>101</td>\n",
       "      <td>Sri Lanka</td>\n",
       "      <td>4</td>\n",
       "      <td>2</td>\n",
       "      <td>Queens Sports Club, Bulawayo</td>\n",
       "      <td>Neutral</td>\n",
       "      <td>2010-05-30</td>\n",
       "      <td>Won</td>\n",
       "      <td>2010</td>\n",
       "      <td>True</td>\n",
       "      <td>Not Out</td>\n",
       "    </tr>\n",
       "    <tr>\n",
       "      <th>2</th>\n",
       "      <td>3</td>\n",
       "      <td>141</td>\n",
       "      <td>Australia</td>\n",
       "      <td>1</td>\n",
       "      <td>2</td>\n",
       "      <td>Sawai Mansingh Stadium, Jaipur</td>\n",
       "      <td>Home</td>\n",
       "      <td>2013-10-16</td>\n",
       "      <td>Won</td>\n",
       "      <td>2013</td>\n",
       "      <td>True</td>\n",
       "      <td>Not Out</td>\n",
       "    </tr>\n",
       "    <tr>\n",
       "      <th>3</th>\n",
       "      <td>4</td>\n",
       "      <td>209</td>\n",
       "      <td>Australia</td>\n",
       "      <td>1</td>\n",
       "      <td>1</td>\n",
       "      <td>M. Chinnaswamy Stadium, Bangalore</td>\n",
       "      <td>Home</td>\n",
       "      <td>2013-11-02</td>\n",
       "      <td>Won</td>\n",
       "      <td>2013</td>\n",
       "      <td>False</td>\n",
       "      <td>Out</td>\n",
       "    </tr>\n",
       "    <tr>\n",
       "      <th>4</th>\n",
       "      <td>5</td>\n",
       "      <td>177</td>\n",
       "      <td>West Indies</td>\n",
       "      <td>6</td>\n",
       "      <td>2</td>\n",
       "      <td>Eden Gardens, Kolkata</td>\n",
       "      <td>Home</td>\n",
       "      <td>2013-11-06</td>\n",
       "      <td>Won</td>\n",
       "      <td>2013</td>\n",
       "      <td>False</td>\n",
       "      <td>Out</td>\n",
       "    </tr>\n",
       "  </tbody>\n",
       "</table>\n",
       "</div>"
      ],
      "text/plain": [
       "   No.  Runs       Against  Position  Innings  \\\n",
       "0    1   114      Zimbabwe         4        1   \n",
       "1    2   101     Sri Lanka         4        2   \n",
       "2    3   141     Australia         1        2   \n",
       "3    4   209     Australia         1        1   \n",
       "4    5   177   West Indies         6        2   \n",
       "\n",
       "                               Venue   Ground       Date Result  Year  \\\n",
       "0       Queens Sports Club, Bulawayo     Away 2010-05-28   Lost  2010   \n",
       "1       Queens Sports Club, Bulawayo  Neutral 2010-05-30    Won  2010   \n",
       "2     Sawai Mansingh Stadium, Jaipur     Home 2013-10-16    Won  2013   \n",
       "3  M. Chinnaswamy Stadium, Bangalore     Home 2013-11-02    Won  2013   \n",
       "4              Eden Gardens, Kolkata     Home 2013-11-06    Won  2013   \n",
       "\n",
       "   Out/NOt-Out Out/Not-Out  \n",
       "0        False         Out  \n",
       "1         True     Not Out  \n",
       "2         True     Not Out  \n",
       "3        False         Out  \n",
       "4        False         Out  "
      ]
     },
     "execution_count": 200,
     "metadata": {},
     "output_type": "execute_result"
    }
   ],
   "source": [
    "RS['Runs']= RS['Runs'].replace(r'[^\\w\\s]', '' )\n",
    "RS['Runs']= RS['Runs'].astype(str).astype(int)\n",
    "RS.head()"
   ]
  },
  {
   "cell_type": "code",
   "execution_count": 202,
   "id": "16207942-d66b-4c35-bfed-5f1bc1e40943",
   "metadata": {},
   "outputs": [
    {
     "data": {
      "text/html": [
       "<div>\n",
       "<style scoped>\n",
       "    .dataframe tbody tr th:only-of-type {\n",
       "        vertical-align: middle;\n",
       "    }\n",
       "\n",
       "    .dataframe tbody tr th {\n",
       "        vertical-align: top;\n",
       "    }\n",
       "\n",
       "    .dataframe thead th {\n",
       "        text-align: right;\n",
       "    }\n",
       "</style>\n",
       "<table border=\"1\" class=\"dataframe\">\n",
       "  <thead>\n",
       "    <tr style=\"text-align: right;\">\n",
       "      <th></th>\n",
       "      <th>No.</th>\n",
       "      <th>Runs</th>\n",
       "      <th>Against</th>\n",
       "      <th>Position</th>\n",
       "      <th>Innings</th>\n",
       "      <th>Venue</th>\n",
       "      <th>Ground</th>\n",
       "      <th>Date</th>\n",
       "      <th>Result</th>\n",
       "      <th>Year</th>\n",
       "      <th>Out/NOt-Out</th>\n",
       "      <th>Out/Not-Out</th>\n",
       "    </tr>\n",
       "  </thead>\n",
       "  <tbody>\n",
       "    <tr>\n",
       "      <th>38</th>\n",
       "      <td>39</td>\n",
       "      <td>119</td>\n",
       "      <td>Australia</td>\n",
       "      <td>1</td>\n",
       "      <td>2</td>\n",
       "      <td>M. Chinnaswamy Stadium, Bangalore</td>\n",
       "      <td>Home</td>\n",
       "      <td>2020-01-19</td>\n",
       "      <td>Won</td>\n",
       "      <td>2020</td>\n",
       "      <td>False</td>\n",
       "      <td>Out</td>\n",
       "    </tr>\n",
       "    <tr>\n",
       "      <th>39</th>\n",
       "      <td>40</td>\n",
       "      <td>161</td>\n",
       "      <td>England</td>\n",
       "      <td>1</td>\n",
       "      <td>1</td>\n",
       "      <td>M. A. Chidambaram Stadium, Chennai</td>\n",
       "      <td>Home</td>\n",
       "      <td>2021-02-13</td>\n",
       "      <td>Won</td>\n",
       "      <td>2021</td>\n",
       "      <td>False</td>\n",
       "      <td>Out</td>\n",
       "    </tr>\n",
       "    <tr>\n",
       "      <th>40</th>\n",
       "      <td>41</td>\n",
       "      <td>127</td>\n",
       "      <td>England</td>\n",
       "      <td>1</td>\n",
       "      <td>3</td>\n",
       "      <td>The Oval, London</td>\n",
       "      <td>Away</td>\n",
       "      <td>2021-09-02</td>\n",
       "      <td>Won</td>\n",
       "      <td>2021</td>\n",
       "      <td>False</td>\n",
       "      <td>Out</td>\n",
       "    </tr>\n",
       "    <tr>\n",
       "      <th>41</th>\n",
       "      <td>42</td>\n",
       "      <td>101</td>\n",
       "      <td>New Zealand</td>\n",
       "      <td>1</td>\n",
       "      <td>1</td>\n",
       "      <td>Holkar Cricket Stadium, Indore</td>\n",
       "      <td>Home</td>\n",
       "      <td>2023-01-24</td>\n",
       "      <td>Won</td>\n",
       "      <td>2023</td>\n",
       "      <td>False</td>\n",
       "      <td>Out</td>\n",
       "    </tr>\n",
       "    <tr>\n",
       "      <th>42</th>\n",
       "      <td>43</td>\n",
       "      <td>120</td>\n",
       "      <td>Australia</td>\n",
       "      <td>1</td>\n",
       "      <td>2</td>\n",
       "      <td>Vidarbha Cricket Association Stadium, Nagpur</td>\n",
       "      <td>Home</td>\n",
       "      <td>2023-02-09</td>\n",
       "      <td>Won</td>\n",
       "      <td>2023</td>\n",
       "      <td>False</td>\n",
       "      <td>Out</td>\n",
       "    </tr>\n",
       "  </tbody>\n",
       "</table>\n",
       "</div>"
      ],
      "text/plain": [
       "    No.  Runs       Against  Position  Innings  \\\n",
       "38   39   119     Australia         1        2   \n",
       "39   40   161       England         1        1   \n",
       "40   41   127       England         1        3   \n",
       "41   42   101   New Zealand         1        1   \n",
       "42   43   120     Australia         1        2   \n",
       "\n",
       "                                           Venue Ground       Date Result  \\\n",
       "38             M. Chinnaswamy Stadium, Bangalore   Home 2020-01-19    Won   \n",
       "39            M. A. Chidambaram Stadium, Chennai   Home 2021-02-13    Won   \n",
       "40                              The Oval, London   Away 2021-09-02    Won   \n",
       "41                Holkar Cricket Stadium, Indore   Home 2023-01-24    Won   \n",
       "42  Vidarbha Cricket Association Stadium, Nagpur   Home 2023-02-09    Won   \n",
       "\n",
       "    Year  Out/NOt-Out Out/Not-Out  \n",
       "38  2020        False         Out  \n",
       "39  2021        False         Out  \n",
       "40  2021        False         Out  \n",
       "41  2023        False         Out  \n",
       "42  2023        False         Out  "
      ]
     },
     "execution_count": 202,
     "metadata": {},
     "output_type": "execute_result"
    }
   ],
   "source": [
    "RS.tail()"
   ]
  },
  {
   "cell_type": "code",
   "execution_count": 204,
   "id": "f81d0d2a-9f9d-47a8-8e9d-2fe9cc38f4b6",
   "metadata": {},
   "outputs": [
    {
     "data": {
      "text/plain": [
       "264"
      ]
     },
     "execution_count": 204,
     "metadata": {},
     "output_type": "execute_result"
    }
   ],
   "source": [
    "RS['Runs'].max()"
   ]
  },
  {
   "cell_type": "code",
   "execution_count": 208,
   "id": "14b77ef8-2cde-45bb-9de3-ac8e65a160c0",
   "metadata": {},
   "outputs": [
    {
     "data": {
      "text/plain": [
       "Against\n",
       " Australia       9\n",
       " Sri Lanka       8\n",
       " South Africa    7\n",
       " West Indies     6\n",
       " England         5\n",
       " Bangladesh      3\n",
       " New Zealand     2\n",
       " Pakistan        2\n",
       " Zimbabwe        1\n",
       "Name: count, dtype: int64"
      ]
     },
     "execution_count": 208,
     "metadata": {},
     "output_type": "execute_result"
    }
   ],
   "source": [
    "RS['Against'].value_counts()"
   ]
  },
  {
   "cell_type": "code",
   "execution_count": 210,
   "id": "e1c9509d-3c14-4632-91b8-08ea734ea03b",
   "metadata": {},
   "outputs": [
    {
     "data": {
      "text/plain": [
       "Position\n",
       "1    29\n",
       "2     9\n",
       "6     3\n",
       "4     2\n",
       "Name: count, dtype: int64"
      ]
     },
     "execution_count": 210,
     "metadata": {},
     "output_type": "execute_result"
    }
   ],
   "source": [
    "RS[\"Position\"].value_counts()"
   ]
  },
  {
   "cell_type": "code",
   "execution_count": 212,
   "id": "76cbb88f-a9cc-4a1b-9524-a71777c02cc9",
   "metadata": {},
   "outputs": [
    {
     "data": {
      "text/plain": [
       "Innings\n",
       "1    22\n",
       "2    19\n",
       "3     2\n",
       "Name: count, dtype: int64"
      ]
     },
     "execution_count": 212,
     "metadata": {},
     "output_type": "execute_result"
    }
   ],
   "source": [
    "RS['Innings'].value_counts()"
   ]
  },
  {
   "cell_type": "code",
   "execution_count": 214,
   "id": "96ba44ea-4b28-4569-983f-ccd9f3803bc7",
   "metadata": {},
   "outputs": [
    {
     "data": {
      "text/plain": [
       "Venue\n",
       "Vidarbha Cricket Association Stadium, Nagpur          3\n",
       "Edgbaston Cricket Ground, Birmingham                  3\n",
       "Queens Sports Club, Bulawayo                          2\n",
       "Green Park Stadium, Kanpur                            2\n",
       "Holkar Cricket Stadium, Indore                        2\n",
       "VDCA Cricket Stadium, Vishakhapatnam                  2\n",
       "Melbourne Cricket Ground, Melbourne                   2\n",
       "Eden Gardens, Kolkata                                 2\n",
       "M. Chinnaswamy Stadium, Bangalore                     2\n",
       "ACA-VDCA Stadium, Vishakhapatnam                      1\n",
       "JSCA International Stadium Complex, Ranchi            1\n",
       "ACA Stadium, Guwahati                                 1\n",
       "M. A. Chidambaram Stadium, Chennai                    1\n",
       "Headingley Cricket Ground, Leeds                      1\n",
       "Old Trafford Cricket Ground, Manchester               1\n",
       "Rose Bowl, Southampton                                1\n",
       "Sydney Cricket Ground, Sydney                         1\n",
       "Ekana Stadium, Lucknow                                1\n",
       "Brabourne Stadium, Mumbai                             1\n",
       "St. George's Park, Port Elizabeth                     1\n",
       "Dubai Cricket Stadium, Dubai                          1\n",
       "Trent Bridge, Nottingham                              1\n",
       "Bristol County Ground, Bristol                        1\n",
       "Sawai Mansingh Stadium, Jaipur                        1\n",
       "Punjab Cricket Association Stadium, Mohali            1\n",
       "R. Premadasa Stadium, Colombo                         1\n",
       "Pallekele International Cricket Stadium, Pallekele    1\n",
       "The Gabba, Brisbane                                   1\n",
       "WACA Ground, Perth                                    1\n",
       "HPCA Stadium, Dharamsala                              1\n",
       "Wankhede Stadium, Mumbai                              1\n",
       "The Oval, London                                      1\n",
       "Name: count, dtype: int64"
      ]
     },
     "execution_count": 214,
     "metadata": {},
     "output_type": "execute_result"
    }
   ],
   "source": [
    "RS['Venue'].value_counts()"
   ]
  },
  {
   "cell_type": "code",
   "execution_count": 216,
   "id": "21eb2dee-15a9-4803-8d72-cdc29dc5a0e9",
   "metadata": {},
   "outputs": [
    {
     "data": {
      "text/plain": [
       "Ground\n",
       "Home       23\n",
       "Away       12\n",
       "Neutral     8\n",
       "Name: count, dtype: int64"
      ]
     },
     "execution_count": 216,
     "metadata": {},
     "output_type": "execute_result"
    }
   ],
   "source": [
    "RS['Ground'].value_counts()"
   ]
  },
  {
   "cell_type": "code",
   "execution_count": 218,
   "id": "47aba44b-afa0-42a8-9edb-13000d03eed1",
   "metadata": {},
   "outputs": [
    {
     "data": {
      "text/plain": [
       "Result\n",
       "Won          34\n",
       "Lost          8\n",
       "Won (D/L)     1\n",
       "Name: count, dtype: int64"
      ]
     },
     "execution_count": 218,
     "metadata": {},
     "output_type": "execute_result"
    }
   ],
   "source": [
    "RS['Result'].value_counts()"
   ]
  },
  {
   "cell_type": "code",
   "execution_count": 220,
   "id": "d707a95b-0b86-4a1b-ba7b-c18456e3466c",
   "metadata": {},
   "outputs": [
    {
     "data": {
      "text/plain": [
       "Out/Not-Out\n",
       "Out        29\n",
       "Not Out    14\n",
       "Name: count, dtype: int64"
      ]
     },
     "execution_count": 220,
     "metadata": {},
     "output_type": "execute_result"
    }
   ],
   "source": [
    "RS['Out/Not-Out'].value_counts()"
   ]
  },
  {
   "cell_type": "code",
   "execution_count": 222,
   "id": "ecfbce50-d7a7-4e95-b321-24b7b85375f4",
   "metadata": {},
   "outputs": [
    {
     "data": {
      "text/plain": [
       "Year\n",
       "2019    10\n",
       "2017     8\n",
       "2018     7\n",
       "2013     4\n",
       "2015     4\n",
       "2010     2\n",
       "2016     2\n",
       "2021     2\n",
       "2023     2\n",
       "2014     1\n",
       "2020     1\n",
       "Name: count, dtype: int64"
      ]
     },
     "execution_count": 222,
     "metadata": {},
     "output_type": "execute_result"
    }
   ],
   "source": [
    "RS['Year'].value_counts()"
   ]
  },
  {
   "cell_type": "code",
   "execution_count": 235,
   "id": "00f2db07-f347-47fc-89f3-a8538ac808a2",
   "metadata": {},
   "outputs": [
    {
     "data": {
      "text/plain": [
       "(array([0, 1, 2, 3, 4, 5, 6, 7, 8]),\n",
       " [Text(0, 0, ' Australia'),\n",
       "  Text(1, 0, ' Sri Lanka'),\n",
       "  Text(2, 0, ' South Africa'),\n",
       "  Text(3, 0, ' West Indies'),\n",
       "  Text(4, 0, ' England'),\n",
       "  Text(5, 0, ' Bangladesh'),\n",
       "  Text(6, 0, ' New Zealand'),\n",
       "  Text(7, 0, ' Pakistan'),\n",
       "  Text(8, 0, ' Zimbabwe')])"
      ]
     },
     "execution_count": 235,
     "metadata": {},
     "output_type": "execute_result"
    },
    {
     "data": {
      "image/png": "[encoded data removed]",
      "text/plain": [
       "<Figure size 640x480 with 1 Axes>"
      ]
     },
     "metadata": {},
     "output_type": "display_data"
    }
   ],
   "source": [
    "sns.countplot(data= RS, x= 'Against', order= RS['Against'].value_counts().index)\n",
    "plt.xticks(rotation=90)"
   ]
  },
  {
   "cell_type": "code",
   "execution_count": 243,
   "id": "ee6f4057-d899-43c6-a660-dce2677bc431",
   "metadata": {},
   "outputs": [
    {
     "data": {
      "text/plain": [
       "(array([0, 1, 2, 3]),\n",
       " [Text(0, 0, '1'), Text(1, 0, '2'), Text(2, 0, '6'), Text(3, 0, '4')])"
      ]
     },
     "execution_count": 243,
     "metadata": {},
     "output_type": "execute_result"
    },
    {
     "data": {
      "image/png": "[encoded data removed]",
      "text/plain": [
       "<Figure size 640x480 with 1 Axes>"
      ]
     },
     "metadata": {},
     "output_type": "display_data"
    }
   ],
   "source": [
    "sns.countplot(data=RS, x= ('Position'), order= RS['Position'].value_counts().index )\n",
    "plt.xticks()"
   ]
  },
  {
   "cell_type": "code",
   "execution_count": 255,
   "id": "ed6418c2-0b71-4565-9b96-f148a2dcb63b",
   "metadata": {},
   "outputs": [
    {
     "data": {
      "text/plain": [
       "(array([0, 1, 2, 3, 4, 5, 6, 7, 8]),\n",
       " [Text(0, 0, ' Zimbabwe'),\n",
       "  Text(1, 0, ' Sri Lanka'),\n",
       "  Text(2, 0, ' Australia'),\n",
       "  Text(3, 0, ' West Indies'),\n",
       "  Text(4, 0, ' Bangladesh'),\n",
       "  Text(5, 0, ' South Africa'),\n",
       "  Text(6, 0, ' New Zealand'),\n",
       "  Text(7, 0, ' England'),\n",
       "  Text(8, 0, ' Pakistan')])"
      ]
     },
     "execution_count": 255,
     "metadata": {},
     "output_type": "execute_result"
    },
    {
     "data": {
      "image/png": "[encoded data removed]",
      "text/plain": [
       "<Figure size 640x480 with 1 Axes>"
      ]
     },
     "metadata": {},
     "output_type": "display_data"
    }
   ],
   "source": [
    "# Convert the 'Innings' column to string\n",
    "RS['Innings'] = RS['Innings'].astype(str)\n",
    "\n",
    "\n",
    "sns.countplot(data=RS, x= 'Against', hue= 'Innings')\n",
    "plt.xticks(rotation=90)"
   ]
  },
  {
   "cell_type": "code",
   "execution_count": 263,
   "id": "e06fbebf-9e99-442a-badb-46758e2021d1",
   "metadata": {},
   "outputs": [
    {
     "data": {
      "text/plain": [
       "(array([0, 1, 2]),\n",
       " [Text(0, 0, 'Away'), Text(1, 0, 'Neutral'), Text(2, 0, 'Home')])"
      ]
     },
     "execution_count": 263,
     "metadata": {},
     "output_type": "execute_result"
    },
    {
     "data": {
      "image/png": "[encoded data removed]",
      "text/plain": [
       "<Figure size 640x480 with 1 Axes>"
      ]
     },
     "metadata": {},
     "output_type": "display_data"
    }
   ],
   "source": [
    "sns.countplot(data=RS,x='Ground')\n",
    "plt.xticks()\n"
   ]
  },
  {
   "cell_type": "code",
   "execution_count": 271,
   "id": "e80d6b16-79a0-4e4f-9e84-c547b96eb728",
   "metadata": {},
   "outputs": [
    {
     "data": {
      "image/png": "[encoded data removed]",
      "text/plain": [
       "<Figure size 2000x1000 with 1 Axes>"
      ]
     },
     "metadata": {},
     "output_type": "display_data"
    }
   ],
   "source": [
    "import matplotlib.pyplot as plt\n",
    "label = RS['Against'].value_counts()\n",
    "colors = ['#1f77b4', '#ff7f0e', '#2ca02c', '#d62728', '#9467bd',\n",
    "          '#8c564b', '#e377c2', '#7f7f7f', '#bcbd22', '#17becf']\n",
    "colors = colors[:len(label)]\n",
    "explode = [0.1] + [0] * (len(label) - 1)\n",
    "\n",
    "plt.figure(figsize=(20, 10))\n",
    "plt.pie(label, labels=label.index, autopct='%1.2f%%', textprops={'fontsize':9}, shadow=True, explode=explode, colors=colors)\n",
    "plt.title('Most Centuries Against Pie chart', fontdict={\"fontsize\":20}, pad=10)\n",
    "plt.legend(bbox_to_anchor=[1, 1.01])\n",
    "plt.show()"
   ]
  },
  {
   "cell_type": "code",
   "execution_count": null,
   "id": "115d37a0-4cb8-4a59-a0e2-aeb0aa7d6c81",
   "metadata": {},
   "outputs": [],
   "source": []
  },
  {
   "cell_type": "code",
   "execution_count": null,
   "id": "dfdf74d2-47d4-459e-a22c-1d41bfa74ca0",
   "metadata": {},
   "outputs": [],
   "source": []
  },
  {
   "cell_type": "code",
   "execution_count": null,
   "id": "442dab62-b7c3-42d4-a942-883c8a9744bf",
   "metadata": {},
   "outputs": [],
   "source": []
  },
  {
   "cell_type": "code",
   "execution_count": null,
   "id": "37013df1-c247-4975-b37b-75161691d741",
   "metadata": {},
   "outputs": [],
   "source": []
  },
  {
   "cell_type": "code",
   "execution_count": null,
   "id": "ab1a48a5-b1dc-4299-afc4-5202c4fdd5ca",
   "metadata": {},
   "outputs": [],
   "source": []
  },
  {
   "cell_type": "code",
   "execution_count": null,
   "id": "f9332e6f-f2af-4d59-9fc4-8847625d3afe",
   "metadata": {},
   "outputs": [],
   "source": []
  }
 ],
 "metadata": {
  "kernelspec": {
   "display_name": "Python 3 (ipykernel)",
   "language": "python",
   "name": "python3"
  },
  "language_info": {
   "codemirror_mode": {
    "name": "ipython",
    "version": 3
   },
   "file_extension": ".py",
   "mimetype": "text/x-python",
   "name": "python",
   "nbconvert_exporter": "python",
   "pygments_lexer": "ipython3",
   "version": "3.11.7"
  }
 },
 "nbformat": 4,
 "nbformat_minor": 5
}
